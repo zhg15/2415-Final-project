{
 "cells": [
  {
   "cell_type": "code",
   "execution_count": 23,
   "id": "e589efae",
   "metadata": {},
   "outputs": [],
   "source": [
    "import pandas as pd\n",
    "import requests\n",
    "from pyecharts import options as opts\n",
    "from pyecharts.charts import Map\n",
    "from pyecharts.charts import Page"
   ]
  },
  
  {
   "cell_type": "code",
   "execution_count": 24,
   "id": "22867aa7",
   "metadata": {},
   "outputs": [],
   "source": [
    "df = pd.read_csv('Final project data.csv')"
   ]
  },
  
  {
   "cell_type": "code",
   "execution_count": 25,
   "id": "c8eafa16",
   "metadata": {},
   "outputs": [],
   "source": [
    "GEO_data = requests.get(url=\"https://echarts.apache.org/examples/data/asset/geo/USA.json\").json()\n",
    "area_move = \"\"\"{\n",
    "        Alaska: {              \n",
    "            left: -128,\n",
    "            top: 25,\n",
    "            width: 15\n",
    "        },\n",
    "        Hawaii: {\n",
    "            left: -110,       \n",
    "            top: 25,\n",
    "            width: 5\n",
    "        },\n",
    "        'Puerto Rico': {       \n",
    "            left: -76,\n",
    "            top: 26,\n",
    "            width: 2\n",
    "        }\n",
    "    }\"\"\""
   ]
  },
  {
   "cell_type": "code",
   "execution_count": 26,
   "id": "a1d966b6",
   "metadata": {},
   "outputs": [],
   "source": [
    "def pro_map_view(name,data,title,pieces):\n",
    "    map=(\n",
    "         Map(init_opts=opts.InitOpts(width=\"1400px\",height='600px'))\n",
    "         .add_js_funcs(\"\"\"echarts.registerMap('USA', {}, {});\"\"\".format(GEO_data, area_move))\n",
    "         .add(name,\n",
    "              data_pair=data,\n",
    "              maptype='USA',\n",
    "              is_roam=True,  \n",
    "              is_map_symbol_show=False,\n",
    "              zoom=1.1,  \n",
    "              label_opts=opts.LabelOpts(is_show=False),\n",
    "              )\n",
    "        .set_global_opts(\n",
    "              legend_opts=opts.LegendOpts(is_show=False),\n",
    "              title_opts=opts.TitleOpts(title=title, pos_left='center'),\n",
    "              visualmap_opts=opts.VisualMapOpts(\n",
    "                                                is_piecewise=True,\n",
    "                                                pos_left='2%',\n",
    "                                                pos_top='65%',\n",
    "                                                range_text=[name, ''],\n",
    "                                                pieces=pieces,\n",
    "                  )\n",
    "              )\n",
    "          )\n",
    "\n",
    "    return map"
   ]
  },
  {
   "cell_type": "code",
   "execution_count": 27,
   "id": "8e317604",
   "metadata": {},
   "outputs": [],
   "source": [
    "states = df['state'].to_list()\n",
    "rate = df['rate'].to_list()\n",
    "data1 = [i for i in zip(states,rate)]"
   ]
  },
  
  {
   "cell_type": "code",
   "execution_count": 28,
   "id": "afc4c7a7",
   "metadata": {},
   "outputs": [],
   "source": [
    "pieces1 = [\n",
    "    {\"min\": 7001, \"max\": 8000},\n",
    "    {\"min\": 6001, \"max\": 7000},\n",
    "    {\"min\": 5001, \"max\": 6000},\n",
    "    {\"min\": 4001, \"max\": 5000},\n",
    "    {\"min\": 3001,\"max\": 4000},\n",
    "    {\"min\": 2001, \"max\": 3000},\n",
    "    {\"min\": 1001, \"max\":2000},\n",
    "    {\"min\": 1, \"max\": 1000},\n",
    "    ]\n",
    "map1 = pro_map_view(name='Crime rate',\n",
    "                    data = data1,\n",
    "                    title = 'Crime rate by state',\n",
    "                    pieces = pieces1,\n",
    "                   )"
   ]
  },
  
  {
   "cell_type": "code",
   "execution_count": 29,
   "id": "a47b8e67",
   "metadata": {},
   "outputs": [],
   "source": [
    "violentRate = df['violentRate'].to_list()\n",
    "data2 = [i for i in zip(states,violentRate)]"
   ]
  },
  
  {
   "cell_type": "code",
   "execution_count": 30,
   "id": "b385306b",
   "metadata": {},
   "outputs": [],
   "source": [
    "pieces2 = [\n",
    "    {\"min\": 701, \"max\": 1000},\n",
    "    {\"min\": 601, \"max\": 700},\n",
    "    {\"min\": 501, \"max\": 600},\n",
    "    {\"min\": 400, \"max\": 500},\n",
    "    {\"min\": 301,\"max\": 400},\n",
    "    {\"min\": 201, \"max\": 300},\n",
    "    {\"min\": 101, \"max\":200},\n",
    "    {\"min\": 1, \"max\": 100},\n",
    "    ]\n",
    "map2 = pro_map_view(name='Violent crime rate',\n",
    "                    data = data2,\n",
    "                    title = 'Violent crime rate by state',\n",
    "                    pieces = pieces2,\n",
    "                   )"
   ]
  },
  
  {
   "cell_type": "code",
   "execution_count": 31,
   "id": "5c3809ef",
   "metadata": {},
   "outputs": [],
   "source": [
    "nonViolentRate = df['nonViolentRate'].to_list()\n",
    "data3 = [i for i in zip(states,nonViolentRate)]"
   ]
  },
  {
   "cell_type": "code",
   "execution_count": 32,
   "id": "4d9b58fd",
   "metadata": {},
   "outputs": [],
   "source": [
    "pieces3 = [\n",
    "    {\"min\": 7001, \"max\": 8000},\n",
    "    {\"min\": 6001, \"max\": 7000},\n",
    "    {\"min\": 5001, \"max\": 6000},\n",
    "    {\"min\": 4001, \"max\": 5000},\n",
    "    {\"min\": 3001,\"max\": 4000},\n",
    "    {\"min\": 2001, \"max\": 3000},\n",
    "    {\"min\": 1001, \"max\":2000},\n",
    "    {\"min\": 1, \"max\": 1000},\n",
    "    ]\n",
    "map3 = pro_map_view(name='Non-violent crime rate',\n",
    "                    data = data1,\n",
    "                    title = 'Non-violent crime rate by state',\n",
    "                    pieces = pieces3,\n",
    "                   )"
   ]
  },
  {
   "cell_type": "code",
   "execution_count": 33,
   "id": "ba2b7ea5",
   "metadata": {
    "scrolled": true
   },
   "outputs": [
    {
     "data": {
      "text/plain": [
       "'C:\\\\Users\\\\Deng\\\\Desktop\\\\2415 Final priject\\\\Crime rate by state.html'"
      ]
     },
     "execution_count": 33,
     "metadata": {},
     "output_type": "execute_result"
    }
   ],
   "source": [
    "page = Page(layout=Page.DraggablePageLayout, page_title=\"Crime rate by state\")\n",
    "page.add(map1,map2,map3)\n",
    "page.render('Crime rate by state.html')"
   ]
  }
 ],
 "metadata": {
  "kernelspec": {
   "display_name": "Python 3 (ipykernel)",
   "language": "python",
   "name": "python3"
  },
  "language_info": {
   "codemirror_mode": {
    "name": "ipython",
    "version": 3
   },
   "file_extension": ".py",
   "mimetype": "text/x-python",
   "name": "python",
   "nbconvert_exporter": "python",
   "pygments_lexer": "ipython3",
   "version": "3.9.12"
  }
 },
 "nbformat": 4,
 "nbformat_minor": 5
}
